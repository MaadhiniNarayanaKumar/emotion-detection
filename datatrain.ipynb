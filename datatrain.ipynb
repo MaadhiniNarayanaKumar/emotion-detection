{
 "cells": [
  {
   "cell_type": "code",
   "execution_count": 1,
   "id": "a089edea",
   "metadata": {},
   "outputs": [],
   "source": [
    "#import required packages\n",
    "import cv2\n",
    "from keras.models import Sequential\n",
    "from keras.layers import Conv2D, MaxPooling2D, Dense, Dropout, Flatten\n",
    "from keras.optimizers import Adam\n",
    "from keras.preprocessing.image import ImageDataGenerator"
   ]
  },
  {
   "cell_type": "code",
   "execution_count": 2,
   "id": "797183a7",
   "metadata": {},
   "outputs": [
    {
     "name": "stdout",
     "output_type": "stream",
     "text": [
      "Found 28709 images belonging to 7 classes.\n",
      "Found 7178 images belonging to 7 classes.\n"
     ]
    }
   ],
   "source": [
    "# Initialize image data generator with rescaling\n",
    "train_data_gen = ImageDataGenerator(rescale=1./255)\n",
    "validation_data_gen = ImageDataGenerator(rescale=1./255)\n",
    "\n",
    "# Preprocess all test images\n",
    "train_generator = train_data_gen.flow_from_directory(\n",
    "        'C:/Users/maanu/Downloads/archive (1)/train',\n",
    "        target_size=(48, 48),\n",
    "        batch_size=64,\n",
    "        color_mode=\"grayscale\",\n",
    "        class_mode='categorical')\n",
    "\n",
    "# Preprocess all train images\n",
    "validation_generator = validation_data_gen.flow_from_directory(\n",
    "        'C:/Users/maanu/Downloads/archive (1)/test',\n",
    "        target_size=(48, 48),\n",
    "        batch_size=64,\n",
    "        color_mode=\"grayscale\",\n",
    "        class_mode='categorical')\n"
   ]
  },
  {
   "cell_type": "code",
   "execution_count": 3,
   "id": "b99240bf",
   "metadata": {},
   "outputs": [
    {
     "name": "stderr",
     "output_type": "stream",
     "text": [
      "C:\\Users\\maanu\\anaconda3\\lib\\site-packages\\keras\\optimizers\\optimizer_v2\\adam.py:110: UserWarning: The `lr` argument is deprecated, use `learning_rate` instead.\n",
      "  super(Adam, self).__init__(name, **kwargs)\n"
     ]
    }
   ],
   "source": [
    "# create model structure\n",
    "emotion_model = Sequential()\n",
    "\n",
    "emotion_model.add(Conv2D(32, kernel_size=(3, 3), activation='relu', input_shape=(48, 48, 1)))\n",
    "emotion_model.add(Conv2D(64, kernel_size=(3, 3), activation='relu'))\n",
    "emotion_model.add(MaxPooling2D(pool_size=(2, 2)))\n",
    "emotion_model.add(Dropout(0.25))\n",
    "\n",
    "emotion_model.add(Conv2D(128, kernel_size=(3, 3), activation='relu'))\n",
    "emotion_model.add(MaxPooling2D(pool_size=(2, 2)))\n",
    "emotion_model.add(Conv2D(128, kernel_size=(3, 3), activation='relu'))\n",
    "emotion_model.add(MaxPooling2D(pool_size=(2, 2)))\n",
    "emotion_model.add(Dropout(0.25))\n",
    "\n",
    "emotion_model.add(Flatten())\n",
    "emotion_model.add(Dense(1024, activation='relu'))\n",
    "emotion_model.add(Dropout(0.5))\n",
    "emotion_model.add(Dense(7, activation='softmax'))\n",
    "                  \n",
    "cv2.ocl.setUseOpenCL(False)\n",
    "emotion_model.compile(loss='categorical_crossentropy', optimizer=Adam(lr=0.0001, decay=1e-6), metrics=['accuracy'])"
   ]
  },
  {
   "cell_type": "code",
   "execution_count": 4,
   "id": "fbc4122e",
   "metadata": {
    "scrolled": true
   },
   "outputs": [
    {
     "name": "stdout",
     "output_type": "stream",
     "text": [
      "Epoch 1/50\n",
      "448/448 [==============================] - 231s 515ms/step - loss: 1.8120 - accuracy: 0.2492 - val_loss: 1.7387 - val_accuracy: 0.2919\n",
      "Epoch 2/50\n",
      "448/448 [==============================] - 223s 499ms/step - loss: 1.6495 - accuracy: 0.3572 - val_loss: 1.5668 - val_accuracy: 0.3997\n",
      "Epoch 3/50\n",
      "448/448 [==============================] - 223s 497ms/step - loss: 1.5482 - accuracy: 0.4051 - val_loss: 1.4884 - val_accuracy: 0.4360\n",
      "Epoch 4/50\n",
      "448/448 [==============================] - 230s 514ms/step - loss: 1.4829 - accuracy: 0.4338 - val_loss: 1.4282 - val_accuracy: 0.4572\n",
      "Epoch 5/50\n",
      "448/448 [==============================] - 241s 539ms/step - loss: 1.4260 - accuracy: 0.4549 - val_loss: 1.3785 - val_accuracy: 0.4817\n",
      "Epoch 6/50\n",
      "448/448 [==============================] - 220s 491ms/step - loss: 1.3726 - accuracy: 0.4776 - val_loss: 1.3417 - val_accuracy: 0.4968\n",
      "Epoch 7/50\n",
      "448/448 [==============================] - 223s 497ms/step - loss: 1.3258 - accuracy: 0.4967 - val_loss: 1.2892 - val_accuracy: 0.5133\n",
      "Epoch 8/50\n",
      "448/448 [==============================] - 224s 500ms/step - loss: 1.2844 - accuracy: 0.5117 - val_loss: 1.2631 - val_accuracy: 0.5229\n",
      "Epoch 9/50\n",
      "448/448 [==============================] - 219s 488ms/step - loss: 1.2499 - accuracy: 0.5287 - val_loss: 1.2410 - val_accuracy: 0.5261\n",
      "Epoch 10/50\n",
      "448/448 [==============================] - 220s 491ms/step - loss: 1.2185 - accuracy: 0.5416 - val_loss: 1.2124 - val_accuracy: 0.5356\n",
      "Epoch 11/50\n",
      "448/448 [==============================] - 219s 489ms/step - loss: 1.1876 - accuracy: 0.5517 - val_loss: 1.1909 - val_accuracy: 0.5480\n",
      "Epoch 12/50\n",
      "448/448 [==============================] - 225s 502ms/step - loss: 1.1569 - accuracy: 0.5660 - val_loss: 1.1749 - val_accuracy: 0.5527\n",
      "Epoch 13/50\n",
      "448/448 [==============================] - 221s 493ms/step - loss: 1.1369 - accuracy: 0.5758 - val_loss: 1.1578 - val_accuracy: 0.5569\n",
      "Epoch 14/50\n",
      "448/448 [==============================] - 226s 505ms/step - loss: 1.1064 - accuracy: 0.5859 - val_loss: 1.1551 - val_accuracy: 0.5587\n",
      "Epoch 15/50\n",
      "448/448 [==============================] - 259s 578ms/step - loss: 1.0826 - accuracy: 0.5966 - val_loss: 1.1407 - val_accuracy: 0.5612\n",
      "Epoch 16/50\n",
      "448/448 [==============================] - 253s 564ms/step - loss: 1.0634 - accuracy: 0.6043 - val_loss: 1.1237 - val_accuracy: 0.5802\n",
      "Epoch 17/50\n",
      "448/448 [==============================] - 238s 531ms/step - loss: 1.0383 - accuracy: 0.6151 - val_loss: 1.1123 - val_accuracy: 0.5806\n",
      "Epoch 18/50\n",
      "448/448 [==============================] - 317s 708ms/step - loss: 1.0176 - accuracy: 0.6233 - val_loss: 1.1061 - val_accuracy: 0.5854\n",
      "Epoch 19/50\n",
      "448/448 [==============================] - 267s 596ms/step - loss: 0.9934 - accuracy: 0.6296 - val_loss: 1.0994 - val_accuracy: 0.5879\n",
      "Epoch 20/50\n",
      "448/448 [==============================] - 272s 607ms/step - loss: 0.9691 - accuracy: 0.6405 - val_loss: 1.0977 - val_accuracy: 0.5873\n",
      "Epoch 21/50\n",
      "448/448 [==============================] - 262s 585ms/step - loss: 0.9449 - accuracy: 0.6509 - val_loss: 1.1016 - val_accuracy: 0.5844\n",
      "Epoch 22/50\n",
      "448/448 [==============================] - 259s 577ms/step - loss: 0.9254 - accuracy: 0.6613 - val_loss: 1.0802 - val_accuracy: 0.5975\n",
      "Epoch 23/50\n",
      "448/448 [==============================] - 266s 594ms/step - loss: 0.9021 - accuracy: 0.6676 - val_loss: 1.0838 - val_accuracy: 0.5972\n",
      "Epoch 24/50\n",
      "448/448 [==============================] - 274s 611ms/step - loss: 0.8865 - accuracy: 0.6735 - val_loss: 1.0745 - val_accuracy: 0.6013\n",
      "Epoch 25/50\n",
      "448/448 [==============================] - 264s 589ms/step - loss: 0.8570 - accuracy: 0.6885 - val_loss: 1.0824 - val_accuracy: 0.5999\n",
      "Epoch 26/50\n",
      "448/448 [==============================] - 227s 507ms/step - loss: 0.8378 - accuracy: 0.6929 - val_loss: 1.0807 - val_accuracy: 0.6071\n",
      "Epoch 27/50\n",
      "448/448 [==============================] - 242s 542ms/step - loss: 0.8150 - accuracy: 0.7012 - val_loss: 1.0735 - val_accuracy: 0.6046\n",
      "Epoch 28/50\n",
      "448/448 [==============================] - 226s 504ms/step - loss: 0.7958 - accuracy: 0.7089 - val_loss: 1.0711 - val_accuracy: 0.6108\n",
      "Epoch 29/50\n",
      "448/448 [==============================] - 225s 503ms/step - loss: 0.7689 - accuracy: 0.7189 - val_loss: 1.0740 - val_accuracy: 0.6053\n",
      "Epoch 30/50\n",
      "448/448 [==============================] - 229s 511ms/step - loss: 0.7507 - accuracy: 0.7261 - val_loss: 1.0739 - val_accuracy: 0.6138\n",
      "Epoch 31/50\n",
      "448/448 [==============================] - 230s 513ms/step - loss: 0.7225 - accuracy: 0.7377 - val_loss: 1.0757 - val_accuracy: 0.6120\n",
      "Epoch 32/50\n",
      "448/448 [==============================] - 218s 487ms/step - loss: 0.7051 - accuracy: 0.7427 - val_loss: 1.0843 - val_accuracy: 0.6080\n",
      "Epoch 33/50\n",
      "448/448 [==============================] - 227s 508ms/step - loss: 0.6869 - accuracy: 0.7503 - val_loss: 1.0867 - val_accuracy: 0.6110\n",
      "Epoch 34/50\n",
      "448/448 [==============================] - 224s 501ms/step - loss: 0.6691 - accuracy: 0.7574 - val_loss: 1.0993 - val_accuracy: 0.6109\n",
      "Epoch 35/50\n",
      "448/448 [==============================] - 226s 505ms/step - loss: 0.6493 - accuracy: 0.7628 - val_loss: 1.0841 - val_accuracy: 0.6154\n",
      "Epoch 36/50\n",
      "448/448 [==============================] - 224s 500ms/step - loss: 0.6265 - accuracy: 0.7712 - val_loss: 1.0708 - val_accuracy: 0.6152\n",
      "Epoch 37/50\n",
      "448/448 [==============================] - 227s 507ms/step - loss: 0.6096 - accuracy: 0.7771 - val_loss: 1.0780 - val_accuracy: 0.6180\n",
      "Epoch 38/50\n",
      "448/448 [==============================] - 234s 523ms/step - loss: 0.5844 - accuracy: 0.7865 - val_loss: 1.0985 - val_accuracy: 0.6203\n",
      "Epoch 39/50\n",
      "448/448 [==============================] - 237s 529ms/step - loss: 0.5759 - accuracy: 0.7918 - val_loss: 1.1013 - val_accuracy: 0.6166\n",
      "Epoch 40/50\n",
      "448/448 [==============================] - 225s 503ms/step - loss: 0.5494 - accuracy: 0.7987 - val_loss: 1.1148 - val_accuracy: 0.6208\n",
      "Epoch 41/50\n",
      "448/448 [==============================] - 239s 535ms/step - loss: 0.5360 - accuracy: 0.8036 - val_loss: 1.1209 - val_accuracy: 0.6196\n",
      "Epoch 42/50\n",
      "448/448 [==============================] - 271s 604ms/step - loss: 0.5135 - accuracy: 0.8131 - val_loss: 1.1269 - val_accuracy: 0.6186\n",
      "Epoch 43/50\n",
      "448/448 [==============================] - 278s 620ms/step - loss: 0.5050 - accuracy: 0.8182 - val_loss: 1.1385 - val_accuracy: 0.6193\n",
      "Epoch 44/50\n",
      "448/448 [==============================] - 261s 582ms/step - loss: 0.4929 - accuracy: 0.8196 - val_loss: 1.1421 - val_accuracy: 0.6264\n",
      "Epoch 45/50\n",
      "448/448 [==============================] - 266s 595ms/step - loss: 0.4713 - accuracy: 0.8291 - val_loss: 1.1414 - val_accuracy: 0.6175\n",
      "Epoch 46/50\n",
      "448/448 [==============================] - 266s 593ms/step - loss: 0.4578 - accuracy: 0.8363 - val_loss: 1.1501 - val_accuracy: 0.6237\n",
      "Epoch 47/50\n",
      "448/448 [==============================] - 254s 567ms/step - loss: 0.4500 - accuracy: 0.8337 - val_loss: 1.1415 - val_accuracy: 0.6257\n",
      "Epoch 48/50\n",
      "448/448 [==============================] - 255s 570ms/step - loss: 0.4330 - accuracy: 0.8422 - val_loss: 1.1672 - val_accuracy: 0.6240\n",
      "Epoch 49/50\n",
      "448/448 [==============================] - 213s 476ms/step - loss: 0.4222 - accuracy: 0.8473 - val_loss: 1.1635 - val_accuracy: 0.6257\n",
      "Epoch 50/50\n",
      "448/448 [==============================] - 217s 484ms/step - loss: 0.4007 - accuracy: 0.8550 - val_loss: 1.1895 - val_accuracy: 0.6226\n"
     ]
    }
   ],
   "source": [
    "emotion_model_info = emotion_model.fit(\n",
    "        train_generator,\n",
    "        steps_per_epoch=28709 // 64,\n",
    "        epochs=50,\n",
    "        validation_data=validation_generator,\n",
    "        validation_steps=7178 // 64)\n",
    "\n",
    "# save model structure in jason file\n",
    "model_json = emotion_model.to_json()\n",
    "with open(\"emotion_model.json\", \"w\") as json_file:\n",
    "    json_file.write(model_json)\n",
    "\n",
    "# save trained model weight in .h5 file\n",
    "emotion_model.save_weights('emotion_model.h5')"
   ]
  },
  {
   "cell_type": "code",
   "execution_count": null,
   "id": "eb458f92",
   "metadata": {},
   "outputs": [],
   "source": []
  }
 ],
 "metadata": {
  "kernelspec": {
   "display_name": "Python 3 (ipykernel)",
   "language": "python",
   "name": "python3"
  },
  "language_info": {
   "codemirror_mode": {
    "name": "ipython",
    "version": 3
   },
   "file_extension": ".py",
   "mimetype": "text/x-python",
   "name": "python",
   "nbconvert_exporter": "python",
   "pygments_lexer": "ipython3",
   "version": "3.9.7"
  }
 },
 "nbformat": 4,
 "nbformat_minor": 5
}
